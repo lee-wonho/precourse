{
  "nbformat": 4,
  "nbformat_minor": 0,
  "metadata": {
    "colab": {
      "name": "1주차 과제.ipynb",
      "provenance": [],
      "collapsed_sections": [],
      "authorship_tag": "ABX9TyPAUR8YZVDH+iuWknaJSoMJ",
      "include_colab_link": true
    },
    "kernelspec": {
      "name": "python3",
      "display_name": "Python 3"
    }
  },
  "cells": [
    {
      "cell_type": "markdown",
      "metadata": {
        "id": "view-in-github",
        "colab_type": "text"
      },
      "source": [
        "<a href=\"https://colab.research.google.com/github/lee-wonho/precourse/blob/master/1%EC%A3%BC%EC%B0%A8_%EA%B3%BC%EC%A0%9C.ipynb\" target=\"_parent\"><img src=\"https://colab.research.google.com/assets/colab-badge.svg\" alt=\"Open In Colab\"/></a>"
      ]
    },
    {
      "cell_type": "markdown",
      "metadata": {
        "id": "jdtTNvTr9wOS",
        "colab_type": "text"
      },
      "source": [
        "#1주차 과제(20.06.01)\n",
        "\n",
        "##4가지 분야의 기술을 사용하는 4가지 제품 및 서비스\n",
        "\n",
        "\n",
        "1.   음성인식 -  홈사운드 데이터를 활용한 아가소리 서비스 (디플리)\n",
        "2.   NLU - 대화형 챗봇 AIQ.TLAK(스켈터랩스)\n",
        "3.   패턴 인식 - 게임 AI 알파스타(딥마인드)\n",
        "4.   컴퓨터 비전 - 실시간 행동분석((Deep Glient)\n"
      ]
    }
  ]
}